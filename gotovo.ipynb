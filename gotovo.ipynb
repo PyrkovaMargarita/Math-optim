{
 "cells": [
  {
   "cell_type": "markdown",
   "id": "e2753fcd-8cf7-4e8b-bb17-7b1fae14c2ab",
   "metadata": {
    "id": "e2753fcd-8cf7-4e8b-bb17-7b1fae14c2ab"
   },
   "source": [
    "Задание. Необходимо найти решение интегрированной модели актива в конфигурации пласт + скважина + сеть сбора и траснпорта. Входные данные для решения интегрированной модели актива представлены в виде функции IPR кривой для каждой скважины, параметры притока, VLP-таблиц (определяющий перепад давлений на скважиназ (забой-устье), VLP-таблицы трубопроводов, давление на УПН."
   ]
  },
  {
   "cell_type": "markdown",
   "id": "8ab62687-5374-4551-9b15-3d24b211e532",
   "metadata": {
    "id": "8ab62687-5374-4551-9b15-3d24b211e532"
   },
   "source": [
    "![image.png](attachment:cf7b9e17-2032-415e-bb95-46707d32a64a.png)"
   ]
  },
  {
   "cell_type": "raw",
   "id": "9056f48e-cec4-447d-bc46-8aed7f2a39b5",
   "metadata": {
    "id": "9056f48e-cec4-447d-bc46-8aed7f2a39b5"
   },
   "source": [
    "\t|WCT  |\tGOR\t   |   K\t|  Pres  |  Freq  |\n",
    "W1\t|0.5  |\t120.00 |  0.14\t| 200.00 |   55   |\n",
    "W2\t|0.3  |\t230.00 |  0.22\t| 190.00 |   36   |\n",
    "W3\t|0.22 |\t211.00 |  0.40\t| 240.00 |   35   |\n",
    "W4\t|0.44 |\t157.00 |  0.05\t| 230.00 |   43   |\n",
    "W5\t|0.12 |\t144.00 |  0.80\t| 165.00 |   35   |\n",
    "W6\t|0.77 |\t160.00 |  0.50\t| 160.00 |   35   |"
   ]
  },
  {
   "cell_type": "code",
   "execution_count": 38,
   "id": "6644921f-42e9-4c96-80ae-c893dea99a7c",
   "metadata": {
    "id": "6644921f-42e9-4c96-80ae-c893dea99a7c"
   },
   "outputs": [],
   "source": [
    "import pandas as pd\n",
    "import numpy as np\n",
    "from scipy.interpolate import RegularGridInterpolator\n",
    "from scipy.interpolate import griddata\n",
    "from scipy import interpolate\n",
    "import scipy.optimize\n",
    "import time\n",
    "import matplotlib.pyplot as plt"
   ]
  },
  {
   "cell_type": "code",
   "execution_count": 39,
   "id": "1f6e276e-db84-43b6-aaa5-9d593ca47efb",
   "metadata": {
    "id": "1f6e276e-db84-43b6-aaa5-9d593ca47efb"
   },
   "outputs": [],
   "source": [
    "# функция входных данных по продуктивности для каждой скважины\n",
    "def fProductivity(well):\n",
    "    K_prod = {'W1': 0.14,\n",
    "              'W2': 0.22,\n",
    "              'W3': 0.4,\n",
    "              'W4': 0.05,\n",
    "              'W5': 0.8,\n",
    "              'W6': 0.5}\n",
    "    return K_prod[well]\n",
    "\n",
    "# функция входных данных по частоте насоса в скважинах\n",
    "def fPump(well):\n",
    "    K_prod = {'W1': 35,\n",
    "              'W2': 36,\n",
    "              'W3': 35,\n",
    "              'W4': 43,\n",
    "              'W5': 35,\n",
    "              'W6': 35}\n",
    "    return K_prod[well]\n",
    "\n",
    "# функция входных данных по обводненности для каждой скважины\n",
    "def fWCT(well):\n",
    "    WCT_w = {'W1': 0.50,\n",
    "             'W2': 0.30,\n",
    "             'W3': 0.22,\n",
    "             'W4': 0.44,\n",
    "             'W5': 0.12,\n",
    "             'W6': 0.77}\n",
    "    return WCT_w[well]\n",
    "\n",
    "# функция входных данных по газовому фактору для каждой скважины\n",
    "def fGOR(well):\n",
    "    GOR_w = {'W1': 120,\n",
    "             'W2': 230,\n",
    "             'W3': 211,\n",
    "             'W4': 157,\n",
    "             'W5': 144,\n",
    "             'W6': 160}\n",
    "    return GOR_w[well]\n",
    "\n",
    "# функция входных данных по давлению пласта для каждой скважины (давление на контуре)\n",
    "def fReservoir_pressure(well):\n",
    "    Reservoir_pressure = {'W1': 200,\n",
    "                          'W2': 190,\n",
    "                          'W3': 240,\n",
    "                          'W4': 230,\n",
    "                          'W5': 185,\n",
    "                          'W6': 160}\n",
    "    return Reservoir_pressure[well]\n",
    "\n",
    "# функция входных данных по топологии сети сбора и транспорта\n",
    "def find_joint_neighbour(joint):\n",
    "    Joints = {'W1' : 'J1',\n",
    "              'W2' : 'J1',\n",
    "              'W3' : 'J1',\n",
    "              'W4' : 'J2',\n",
    "              'W5' : 'J2',\n",
    "              'W6' : 'J2',\n",
    "              'J1' : 'J3',\n",
    "              'J2' : 'J3',\n",
    "              'J3' : 'Separator',}\n",
    "    return Joints[joint]\n",
    "\n",
    "# the fuction for find wells in structure (UPN -> wells)\n",
    "def find_included_well(joint):\n",
    "\n",
    "    well_list = {'Separator' : ['W1', 'W2', 'W3', 'W4', 'W5', 'W6'],\n",
    "                 'J3' : ['W1', 'W2', 'W3', 'W4', 'W5', 'W6'],\n",
    "                 'J2' : ['W4', 'W5', 'W6'],\n",
    "                 'J1' : ['W1', 'W2', 'W3']}\n",
    "\n",
    "    return well_list[joint]"
   ]
  },
  {
   "cell_type": "markdown",
   "id": "455f7515-0364-448a-a332-3fc73ed56077",
   "metadata": {
    "id": "455f7515-0364-448a-a332-3fc73ed56077"
   },
   "source": [
    "Необходимо описать функцию притока скважины в виде IPR кривой.\n",
    "![image.png](attachment:3173ab86-7694-4f32-8b80-845f1a1936ac.png)"
   ]
  },
  {
   "cell_type": "code",
   "execution_count": 40,
   "id": "7ee7c49e-b622-41b0-9bcc-a819e7b7c2ec",
   "metadata": {
    "id": "7ee7c49e-b622-41b0-9bcc-a819e7b7c2ec"
   },
   "outputs": [],
   "source": [
    "# функция определения дебита\n",
    "def rate_calculation(PI, Pres, Pw):\n",
    "    # PI - индекс продуктивности\n",
    "    # Pres - Ддавление пласта\n",
    "    # Pw - Well bottom pressure\n",
    "    # Pb - давление насыщения нефти\n",
    "    Pb = 100\n",
    "    if Pw > Pb: rate = PI*(Pres - Pw)\n",
    "    else:\n",
    "        rate_Pb = PI * (Pres - Pb)\n",
    "        rate = rate_Pb + PI * Pb / 1.8 * ( 1 - 0.2 * (Pw / Pb) - 0.8 * (Pw / Pb)**2 )\n",
    "    #print(rate)\n",
    "    return rate"
   ]
  },
  {
   "cell_type": "code",
   "execution_count": 41,
   "id": "9b2873c9-6877-4778-a674-4469e100de61",
   "metadata": {
    "colab": {
     "base_uri": "https://localhost:8080/"
    },
    "id": "9b2873c9-6877-4778-a674-4469e100de61",
    "outputId": "4d2b77ab-68a9-4d8e-dd0c-3ef8460177cc"
   },
   "outputs": [
    {
     "data": {
      "text/plain": [
       "[0.0,\n",
       " 5.5,\n",
       " 11.0,\n",
       " 16.5,\n",
       " 22.0,\n",
       " 26.88888888888889,\n",
       " 30.555555555555554,\n",
       " 33.0,\n",
       " 34.22222222222222]"
      ]
     },
     "execution_count": 41,
     "metadata": {},
     "output_type": "execute_result"
    }
   ],
   "source": [
    "P = [200, 175, 150, 125, 100, 75, 50, 25, 0]\n",
    "rate = [rate_calculation(fProductivity('W2'), fReservoir_pressure('W1'), x) for x in P]\n",
    "rate"
   ]
  },
  {
   "cell_type": "code",
   "execution_count": 42,
   "id": "9d20a773-5f42-45b3-8bc0-36c1bb8c06bd",
   "metadata": {
    "colab": {
     "base_uri": "https://localhost:8080/",
     "height": 489
    },
    "id": "9d20a773-5f42-45b3-8bc0-36c1bb8c06bd",
    "outputId": "5788dd83-7a56-4b38-8cc6-decbd5870001"
   },
   "outputs": [
    {
     "data": {
      "text/plain": [
       "Text(0, 0.5, 'BHP')"
      ]
     },
     "execution_count": 42,
     "metadata": {},
     "output_type": "execute_result"
    },
    {
     "data": {
      "image/png": "[encoded data removed]",
      "text/plain": [
       "<Figure size 640x480 with 1 Axes>"
      ]
     },
     "metadata": {},
     "output_type": "display_data"
    }
   ],
   "source": [
    "plt.plot(rate, P)\n",
    "\n",
    "plt.title('IPR')\n",
    "plt.xlabel('Rate')\n",
    "plt.ylabel('BHP')"
   ]
  },
  {
   "cell_type": "code",
   "execution_count": 43,
   "id": "28b7d938-7a27-4b3b-8bac-f454ca7bd752",
   "metadata": {
    "id": "28b7d938-7a27-4b3b-8bac-f454ca7bd752"
   },
   "outputs": [],
   "source": [
    "# Суммирование дебита по узлам\n",
    "def parameters_in_joint(joint, Pw):\n",
    "\n",
    "    well_list = find_included_well(joint)\n",
    "    Joint_rate = 0\n",
    "    Joint_water = 0\n",
    "    Joint_gas = 0\n",
    "\n",
    "    for well in well_list:\n",
    "        Liquid_rate = rate_calculation(fProductivity(well),\n",
    "                                       fReservoir_pressure(well),\n",
    "                                       Pw[well])\n",
    "        Water_rate = fWCT(well)*Liquid_rate\n",
    "        Gas_rate = fGOR(well)*(Liquid_rate - Water_rate)\n",
    "        Joint_rate += Liquid_rate\n",
    "        Joint_water += Water_rate\n",
    "        Joint_gas += Gas_rate\n",
    "    WCT = Joint_water / Joint_rate\n",
    "    GOR = Joint_gas / (Joint_rate - Joint_water)\n",
    "    Parameters = {'Rate' : Joint_rate,\n",
    "                  'WCT' : WCT,\n",
    "                  'GOR' : GOR,\n",
    "                  'Pressure' : 0}\n",
    "\n",
    "    return Parameters"
   ]
  },
  {
   "cell_type": "markdown",
   "id": "5612fed0-c75a-432e-80d9-27713e0ba370",
   "metadata": {
    "id": "5612fed0-c75a-432e-80d9-27713e0ba370"
   },
   "source": [
    "![image.png](attachment:22864d05-049e-4adf-a893-493417b7969f.png)"
   ]
  },
  {
   "cell_type": "code",
   "execution_count": 44,
   "id": "b8dd00ca-902f-48c3-ac79-9530198e99ee",
   "metadata": {
    "id": "b8dd00ca-902f-48c3-ac79-9530198e99ee"
   },
   "outputs": [],
   "source": [
    "# Интерполятор VLP таблицы скважины\n",
    "def interpolator_well(df):\n",
    "    THP = np.unique(df['THP'])\n",
    "    WCT = np.unique(df['WCT'])\n",
    "    GOR = np.unique(df['GOR'])\n",
    "    LIQ = np.unique(df['LIQ'])\n",
    "    PUMP = np.unique(df['PUMP'])\n",
    "    BHP = df['BHP'].values.reshape(len(WCT), len(THP), len(GOR), len(PUMP), len(LIQ))\n",
    "\n",
    "    interpolator = RegularGridInterpolator((WCT, THP, GOR, PUMP, LIQ), BHP, method='linear', bounds_error=False, fill_value=None)\n",
    "\n",
    "    return interpolator"
   ]
  },
  {
   "cell_type": "code",
   "execution_count": 45,
   "id": "3fe15261-0047-4334-826e-0d6880d92ecc",
   "metadata": {
    "id": "3fe15261-0047-4334-826e-0d6880d92ecc"
   },
   "outputs": [],
   "source": [
    "# Интерполятор трубопроводов\n",
    "def interpolator(df):\n",
    "    THP = np.unique(df['THP'])\n",
    "    WCT = np.unique(df['WCT'])\n",
    "    GOR = np.unique(df['GOR'])\n",
    "    LIQ = np.unique(df['LIQ'])\n",
    "    BHP = df['BHP'].values.reshape(len(GOR), len(WCT), len(THP), len(LIQ))\n",
    "    \n",
    "    interpolator = RegularGridInterpolator((GOR, WCT, THP, LIQ), BHP, method='linear', bounds_error=False, fill_value=None)\n",
    "    return interpolator"
   ]
  },
  {
   "cell_type": "markdown",
   "id": "57bf26fc-417d-49c0-96e6-0c778c289b90",
   "metadata": {
    "id": "57bf26fc-417d-49c0-96e6-0c778c289b90"
   },
   "source": [
    "![image.png](attachment:511a444e-a86f-44ad-badb-935de1313781.png)"
   ]
  },
  {
   "cell_type": "code",
   "execution_count": 46,
   "id": "3ec7c20c-16f5-4c25-bb1a-9516c1ff2a21",
   "metadata": {
    "colab": {
     "base_uri": "https://localhost:8080/",
     "height": 356
    },
    "id": "3ec7c20c-16f5-4c25-bb1a-9516c1ff2a21",
    "outputId": "1b9f81bc-6fe4-41c4-d9b6-a617c0fcb85e"
   },
   "outputs": [],
   "source": [
    "Joints = ['Separator', 'J3', 'J2', 'J1']\n",
    "Wells = ['W1', 'W2', 'W3', 'W4', 'W5', 'W6']\n",
    "Pressure = 15\n",
    "df = pd.read_csv('VFP.csv', sep = ';')\n",
    "df_well = pd.read_csv('VFP_well.csv', sep = ';')\n",
    "bounds = ([1, 150], [1, 150], [1, 150], [1, 150], [1, 150], [1, 150])\n",
    "first_values = [50, 50, 50, 50, 50, 50]"
   ]
  },
  {
   "cell_type": "code",
   "execution_count": 47,
   "id": "3f7db525-0593-45ab-9a36-c6ea4a3fab6b",
   "metadata": {
    "id": "3f7db525-0593-45ab-9a36-c6ea4a3fab6b"
   },
   "outputs": [],
   "source": [
    "# Метод расчета итераций найденнызх забойных давлений\n",
    "def search_p(x0):\n",
    "    mistake = 1\n",
    "    k = 0\n",
    "    while mistake > 0.1 and k < 200:\n",
    "        #print('----------- calculation ----------\\n')\n",
    "        # давления на забое скважины как начальные параметры для расчета системы\n",
    "        Pw = {'W1': x0[0],\n",
    "              'W2': x0[1],\n",
    "              'W3': x0[2],\n",
    "              'W4': x0[3],\n",
    "              'W5': x0[4],\n",
    "              'W6': x0[5]}\n",
    "        print(Pw)\n",
    "        Pressure_joint = dict()\n",
    "        interpolated_value = interpolator(df)\n",
    "\n",
    "        # определение давлений в узлах сети сбора и транспорта\n",
    "        for joint in Joints:\n",
    "\n",
    "            Parameters = parameters_in_joint(joint, Pw)\n",
    "\n",
    "            if joint == 'Separator':\n",
    "                Parameters['Pressure'] = Pressure\n",
    "            else:\n",
    "                neighbour = find_joint_neighbour(joint)\n",
    "                Parameters['Pressure'] = Pressure_joint[neighbour]\n",
    "            point = [Parameters['GOR'], Parameters['WCT'],  Parameters['Pressure'], Parameters['Rate']] # GOR, WCT, THP, LIQ\n",
    "            Parameters['Pressure'] = interpolated_value(point)[0]\n",
    "            Pressure_joint[joint] = Parameters['Pressure']\n",
    "            print(joint, Parameters)\n",
    "\n",
    "        mistake = 0\n",
    "        BHP_list = []\n",
    "        interpolated_value_well = interpolator(df_well)\n",
    "\n",
    "        # определение давлений на устье и забое скважины\n",
    "        for well in Wells:\n",
    "            neighbour = find_joint_neighbour(well)\n",
    "            THP = Pressure_joint[neighbour]\n",
    "            rate =rate_calculation(fProductivity(well), fReservoir_pressure(well), Pw[well])\n",
    "            point = [fGOR(well), fWCT(well), THP, rate]  # GOR, WCT, THP, LIQ\n",
    "            Well_pressure = interpolated_value(point)[0]\n",
    "            point = [fWCT(well), Well_pressure, fGOR(well), fPump(well), rate] # WCT, THP, GOR, PUMP, LIQ\n",
    "            interpolated_value_well = interpolator_well(df_well)\n",
    "            Well_BHP = interpolated_value_well(point)[0]\n",
    "            print('well', 'THP', 'WCT', 'GOR', 'Pump', \"Rate\", 'BHP')\n",
    "            print(well, point, Well_BHP)\n",
    "            mistake += abs(Well_BHP - Pw[well])\n",
    "            BHP_list += [Well_BHP]\n",
    "            #mistake_mistake = rate_calculation(fPI[well], Pres, Pw)\n",
    "        print('Mistake = ', mistake, 'iteration = ', k)\n",
    "        k+=1\n",
    "        x0 = BHP_list\n",
    "\n",
    "    return x0"
   ]
  },
  {
   "cell_type": "code",
   "execution_count": 48,
   "id": "05e2a5ad-8752-4b04-aadb-195cb1632792",
   "metadata": {
    "id": "05e2a5ad-8752-4b04-aadb-195cb1632792"
   },
   "outputs": [],
   "source": [
    "first_values = [50, 50, 50, 50, 50, 50]"
   ]
  },
  {
   "cell_type": "code",
   "execution_count": 49,
   "id": "1ff36bf9-cbdd-480d-a368-57fa5340e586",
   "metadata": {
    "id": "1ff36bf9-cbdd-480d-a368-57fa5340e586"
   },
   "outputs": [
    {
     "name": "stdout",
     "output_type": "stream",
     "text": [
      "{'W1': 50, 'W2': 50, 'W3': 50, 'W4': 50, 'W5': 50, 'W6': 50}\n",
      "Separator {'Rate': 276.35555555555555, 'WCT': 0.3171719202315857, 'GOR': 172.9162648013048, 'Pressure': 18.31437846884193}\n",
      "J3 {'Rate': 276.35555555555555, 'WCT': 0.3171719202315857, 'GOR': 172.9162648013048, 'Pressure': 21.20644699152252}\n",
      "J2 {'Rate': 157.0, 'WCT': 0.34191790516631276, 'GOR': 146.3561142955467, 'Pressure': 21.89299732715056}\n",
      "J1 {'Rate': 119.35555555555555, 'WCT': 0.2846211133867064, 'GOR': 205.05520131171434, 'Pressure': 21.78263084393464}\n",
      "well THP WCT GOR Pump Rate BHP\n",
      "W1 [0.5, 21.783726741605253, 120, 35, 19.444444444444446] 120.91842529862599\n",
      "well THP WCT GOR Pump Rate BHP\n",
      "W2 [0.3, 21.810314671905488, 230, 36, 28.355555555555554] 70.000161251213\n",
      "well THP WCT GOR Pump Rate BHP\n",
      "W3 [0.22, 21.907247129301673, 211, 35, 71.55555555555556] 45.27885233507492\n",
      "well THP WCT GOR Pump Rate BHP\n",
      "W4 [0.44, 21.893514716671906, 157, 43, 8.444444444444445] 69.55739910113131\n",
      "well THP WCT GOR Pump Rate BHP\n",
      "W5 [0.12, 22.148591617064746, 144, 35, 99.11111111111111] 66.01431956440032\n",
      "well THP WCT GOR Pump Rate BHP\n",
      "W6 [0.77, 21.896028029191193, 160, 35, 49.44444444444444] 118.54837866189376\n",
      "Mistake =  199.7598315421895 iteration =  0\n",
      "{'W1': 120.91842529862599, 'W2': 70.000161251213, 'W3': 45.27885233507492, 'W4': 69.55739910113131, 'W5': 66.01431956440032, 'W6': 118.54837866189376}\n",
      "Separator {'Rate': 228.78024800289506, 'WCT': 0.26000421354895986, 'GOR': 175.47656040396916, 'Pressure': 17.52695647008211}\n",
      "J3 {'Rate': 228.78024800289506, 'WCT': 0.26000421354895986, 'GOR': 175.47656040396916, 'Pressure': 19.802192417489053}\n",
      "J2 {'Rate': 119.62377938598317, 'WCT': 0.2535265970562169, 'GOR': 145.4913641877701, 'Pressure': 20.512200760926206}\n",
      "J1 {'Rate': 109.1564686169119, 'WCT': 0.26710298631151913, 'GOR': 208.94583684080803, 'Pressure': 20.249540650164718}\n",
      "well THP WCT GOR Pump Rate BHP\n",
      "W1 [0.5, 20.250184450993434, 120, 35, 11.071420458192362] 123.84041095905295\n",
      "well THP WCT GOR Pump Rate BHP\n",
      "W2 [0.3, 20.27440505486532, 230, 36, 25.51997398477888] 72.88559515734774\n",
      "well THP WCT GOR Pump Rate BHP\n",
      "W3 [0.22, 20.38740173038878, 211, 35, 72.56507417394064] 45.76213733662315\n",
      "well THP WCT GOR Pump Rate BHP\n",
      "W4 [0.44, 20.51268677965549, 157, 43, 7.816185167279478] 70.19593761232511\n",
      "well THP WCT GOR Pump Rate BHP\n",
      "W5 [0.12, 20.746533415200414, 144, 35, 91.08178354965057] 62.272393163047695\n",
      "well THP WCT GOR Pump Rate BHP\n",
      "W6 [0.77, 20.51338236414246, 160, 35, 20.725810669053118] 141.79462381971655\n",
      "Mistake =  33.91741463847913 iteration =  1\n",
      "{'W1': 123.84041095905295, 'W2': 72.88559515734774, 'W3': 45.76213733662315, 'W4': 70.19593761232511, 'W5': 62.272393163047695, 'W6': 141.79462381971655}\n",
      "Separator {'Rate': 218.19073430504062, 'WCT': 0.23099009337342757, 'GOR': 175.3313303104146, 'Pressure': 17.101844377817972}\n",
      "J3 {'Rate': 218.19073430504062, 'WCT': 0.23099009337342757, 'GOR': 175.3313303104146, 'Pressure': 19.023725499902778}\n",
      "J2 {'Rate': 110.01670129750802, 'WCT': 0.1964469887573247, 'GOR': 145.0206469274363, 'Pressure': 19.592681716519472}\n",
      "J1 {'Rate': 108.17403300753259, 'WCT': 0.2661216153919672, 'GOR': 209.08505953175876, 'Pressure': 19.473764319391798}\n",
      "well THP WCT GOR Pump Rate BHP\n",
      "W1 [0.5, 19.474386032278478, 120, 35, 10.66234246573259] 123.78484494869444\n",
      "well THP WCT GOR Pump Rate BHP\n",
      "W2 [0.3, 19.498711976293848, 230, 36, 25.04631569207828] 72.64400424173377\n",
      "well THP WCT GOR Pump Rate BHP\n",
      "W3 [0.22, 19.61626638674458, 211, 35, 72.46537484972171] 46.218733605387726\n",
      "well THP WCT GOR Pump Rate BHP\n",
      "W4 [0.44, 19.59316912545869, 157, 43, 7.792807089426319] 70.10725892054802\n",
      "well THP WCT GOR Pump Rate BHP\n",
      "W5 [0.12, 19.8471607705967, 144, 35, 93.12120611793998] 65.01316245049121\n",
      "well THP WCT GOR Pump Rate BHP\n",
      "W6 [0.77, 19.593232490549006, 160, 35, 9.102688090141726] 146.7857392936659\n",
      "Mistake =  8.574316647907004 iteration =  2\n",
      "{'W1': 123.78484494869444, 'W2': 72.64400424173377, 'W3': 46.218733605387726, 'W4': 70.10725892054802, 'W5': 65.01316245049121, 'W6': 146.7857392936659}\n",
      "Separator {'Rate': 214.1675234599182, 'WCT': 0.22550923346894888, 'GOR': 175.62292817215223, 'Pressure': 16.991552434788826}\n",
      "J3 {'Rate': 214.1675234599182, 'WCT': 0.22550923346894888, 'GOR': 175.62292817215223, 'Pressure': 18.819042008246903}\n",
      "J2 {'Rate': 106.04038482525898, 'WCT': 0.18402631806724173, 'GOR': 144.93693730395097, 'Pressure': 19.319247284823152}\n",
      "J1 {'Rate': 108.12713863465922, 'WCT': 0.2661915669553977, 'GOR': 209.0863377617126, 'Pressure': 19.272654301419838}\n",
      "well THP WCT GOR Pump Rate BHP\n",
      "W1 [0.5, 19.273276434342396, 120, 35, 10.67012170718278] 123.73604376562992\n",
      "well THP WCT GOR Pump Rate BHP\n",
      "W2 [0.3, 19.297910578183107, 230, 36, 25.08659857409065] 72.39732206847603\n",
      "well THP WCT GOR Pump Rate BHP\n",
      "W3 [0.22, 19.416098273116482, 211, 35, 72.37041835338579] 46.29855996281201\n",
      "well THP WCT GOR Pump Rate BHP\n",
      "W4 [0.44, 19.319735761340187, 157, 43, 7.796064616363008] 70.0737676252395\n",
      "well THP WCT GOR Pump Rate BHP\n",
      "W5 [0.12, 19.56979938293577, 144, 35, 91.63718985572892] 64.39085935766018\n",
      "well THP WCT GOR Pump Rate BHP\n",
      "W6 [0.77, 19.319659224356716, 160, 35, 6.607130353167051] 147.6462278709219\n",
      "Mistake =  1.8915926791421072 iteration =  3\n",
      "{'W1': 123.73604376562992, 'W2': 72.39732206847603, 'W3': 46.29855996281201, 'W4': 70.0737676252395, 'W5': 64.39085935766018, 'W6': 147.6462278709219}\n",
      "Separator {'Rate': 214.11131689980962, 'WCT': 0.22427144713308977, 'GOR': 175.580403067986, 'Pressure': 16.980940216538144}\n",
      "J3 {'Rate': 214.11131689980962, 'WCT': 0.22427144713308977, 'GOR': 175.580403067986, 'Pressure': 18.799142614807504}\n",
      "J2 {'Rate': 105.95300936587711, 'WCT': 0.18144337054524656, 'GOR': 144.91659841732636, 'Pressure': 19.292682485117098}\n",
      "J1 {'Rate': 108.15830753393253, 'WCT': 0.2662262789282398, 'GOR': 209.08975503679963, 'Pressure': 19.253508109905358}\n",
      "well THP WCT GOR Pump Rate BHP\n",
      "W1 [0.5, 19.254130611726954, 120, 35, 10.676953872811813] 123.72937422241596\n",
      "well THP WCT GOR Pump Rate BHP\n",
      "W2 [0.3, 19.27885879977913, 230, 36, 25.12761260103253] 72.33135728131154\n",
      "well THP WCT GOR Pump Rate BHP\n",
      "W3 [0.22, 19.397005644863253, 211, 35, 72.35374106008818] 46.30191479535998\n",
      "well THP WCT GOR Pump Rate BHP\n",
      "W4 [0.44, 19.293171117474227, 157, 43, 7.79729397781621] 70.06986990502531\n",
      "well THP WCT GOR Pump Rate BHP\n",
      "W5 [0.12, 19.545256390529076, 144, 35, 91.97882932352185] 64.72258836121861\n",
      "well THP WCT GOR Pump Rate BHP\n",
      "W6 [0.77, 19.293070489019726, 160, 35, 6.1768860645390475] 147.80477177352566\n",
      "Mistake =  0.5701597893027923 iteration =  4\n",
      "{'W1': 123.72937422241596, 'W2': 72.33135728131154, 'W3': 46.30191479535998, 'W4': 70.06986990502531, 'W5': 64.72258836121861, 'W6': 147.80477177352566}\n",
      "Separator {'Rate': 213.8615937842606, 'WCT': 0.2241630274457138, 'GOR': 175.61479225141332, 'Pressure': 16.975934816093243}\n",
      "J3 {'Rate': 213.8615937842606, 'WCT': 0.2241630274457138, 'GOR': 175.61479225141332, 'Pressure': 18.78984851991087}\n",
      "J2 {'Rate': 105.69210658714111, 'WCT': 0.1811079599803703, 'GOR': 144.91512620112914, 'Pressure': 19.280042587324548}\n",
      "J1 {'Rate': 108.16948719711951, 'WCT': 0.2662320147135466, 'GOR': 209.09123667410728, 'Pressure': 19.244508296802532}\n",
      "well THP WCT GOR Pump Rate BHP\n",
      "W1 [0.5, 19.245130849040695, 120, 35, 10.677887608861766] 123.72699169485504\n",
      "well THP WCT GOR Pump Rate BHP\n",
      "W2 [0.3, 19.269888846459782, 230, 36, 25.138559914659126] 72.30985792828722\n",
      "well THP WCT GOR Pump Rate BHP\n",
      "W3 [0.22, 19.388064380241552, 211, 35, 72.35303967359862] 46.30743021409015\n",
      "well THP WCT GOR Pump Rate BHP\n",
      "W4 [0.44, 19.28053126863137, 157, 43, 7.797437018637154] 70.06832509055211\n",
      "well THP WCT GOR Pump Rate BHP\n",
      "W5 [0.12, 19.531868251850973, 144, 35, 91.79705545526679] 64.59213210991874\n",
      "well THP WCT GOR Pump Rate BHP\n",
      "W6 [0.77, 19.280426181118273, 160, 35, 6.097614113237171] 147.82959594889866\n",
      "Mistake =  0.18622254046148612 iteration =  5\n",
      "{'W1': 123.72699169485504, 'W2': 72.30985792828722, 'W3': 46.30743021409015, 'W4': 70.06832509055211, 'W5': 64.59213210991874, 'W6': 147.82959594889866}\n",
      "Separator {'Rate': 213.92356291374165, 'WCT': 0.22409827874475688, 'GOR': 175.60363012831948, 'Pressure': 16.97644806684236}\n",
      "J3 {'Rate': 213.92356291374165, 'WCT': 0.22409827874475688, 'GOR': 175.60363012831948, 'Pressure': 18.79078648208838}\n",
      "J2 {'Rate': 105.75132921659295, 'WCT': 0.18099761914447923, 'GOR': 144.91396787951155, 'Pressure': 19.28132019864823}\n",
      "J1 {'Rate': 108.1722336971487, 'WCT': 0.26623434164239684, 'GOR': 209.091685429178, 'Pressure': 19.24545934361899}\n",
      "well THP WCT GOR Pump Rate BHP\n",
      "W1 [0.5, 19.24608191386721, 120, 35, 10.678221162720295] 123.72710016502158\n",
      "well THP WCT GOR Pump Rate BHP\n",
      "W2 [0.3, 19.27084499267249, 230, 36, 25.142126042668544] 72.3067348785779\n",
      "well THP WCT GOR Pump Rate BHP\n",
      "W3 [0.22, 19.38900349544379, 211, 35, 72.35188649175986] 46.30616967605169\n",
      "well THP WCT GOR Pump Rate BHP\n",
      "W4 [0.44, 19.281808879066464, 157, 43, 7.797493709275756] 70.06843125571912\n",
      "well THP WCT GOR Pump Rate BHP\n",
      "W5 [0.12, 19.53348602364259, 144, 35, 91.86863348176652] 64.64983134133433\n",
      "well THP WCT GOR Pump Rate BHP\n",
      "W6 [0.77, 19.281703101924595, 160, 35, 6.085202025550672] 147.8353156620745\n",
      "Mistake =  0.06801716767275678 iteration =  6\n"
     ]
    },
    {
     "data": {
      "text/plain": [
       "0.2379777431488037"
      ]
     },
     "execution_count": 49,
     "metadata": {},
     "output_type": "execute_result"
    }
   ],
   "source": [
    "t1 = time.time()\n",
    "search_p(first_values)\n",
    "t2 = time.time()\n",
    "t2-t1\n"
   ]
  },
  {
   "cell_type": "code",
   "execution_count": null,
   "id": "5640d777-f54d-459a-a214-41c3e1c73df4",
   "metadata": {
    "id": "5640d777-f54d-459a-a214-41c3e1c73df4"
   },
   "outputs": [],
   "source": [
    "def search_p(x0, fPump):\n",
    "    mistake = 10000\n",
    "    k = 0\n",
    "    while mistake > 0.1 and k < 200:\n",
    "        Pw = {well: pressure for well, pressure in zip(Wells, x0)}\n",
    "        Pressure_joint = {}\n",
    "\n",
    "        interpolated_value = interpolator(df)\n",
    "        interpolated_value_well = interpolator(df_well)\n",
    "\n",
    "        for _ in range(10):\n",
    "            for joint in Joints:\n",
    "                Parameters = parameters_in_joint(joint, Pw)\n",
    "                Parameters['Pressure'] = Pressure_joint.get(find_joint_neighbour(joint), Pressure)\n",
    "                point = [Parameters['GOR'], Parameters['WCT'], Parameters['Pressure'], Parameters['Rate']]\n",
    "                Parameters['Pressure'] = interpolated_value(point)[0]\n",
    "                Pressure_joint[joint] = Parameters['Pressure']\n",
    "\n",
    "            mistake = 0\n",
    "            BHP_list = []\n",
    "\n",
    "            for well in Wells:\n",
    "                neighbour = find_joint_neighbour(well)\n",
    "                THP = Pressure_joint[neighbour]\n",
    "                rate = rate_calculation(fProductivity(well), fReservoir_pressure(well), Pw[well])\n",
    "                point = [fGOR(well), fWCT(well), THP, rate]\n",
    "                Well_pressure = interpolated_value(point)[0]\n",
    "                point = [fWCT(well), Well_pressure, fGOR(well), fPump(well), rate]\n",
    "                Well_BHP = interpolated_value_well(point)[0]\n",
    "\n",
    "                mistake += abs(Well_BHP - Pw[well])\n",
    "                BHP_list.append(Well_BHP)\n",
    "\n",
    "            k += 1\n",
    "            x0 = BHP_list\n",
    "            Pw = {well: pressure for well, pressure in zip(Wells, x0)}\n",
    "\n",
    "    Parameters = parameters_in_joint('Separator', Pw)\n",
    "    rate_oil = Parameters['Rate'] * (1 - Parameters['WCT'])\n",
    "\n",
    "    if all(x < 30 for x in x0):\n",
    "        return -rate_oil\n",
    "\n",
    "    return rate_oil"
   ]
  },
  {
   "cell_type": "code",
   "execution_count": null,
   "id": "1c82a112-eb53-490d-bb7a-cbfc2f98e194",
   "metadata": {
    "id": "1c82a112-eb53-490d-bb7a-cbfc2f98e194"
   },
   "outputs": [],
   "source": [
    "def optimize_Freq(x1):\n",
    "    print('\\n', x1)\n",
    "    def fPump(well):\n",
    "        K_prod = {'W1': x1[0],\n",
    "                  'W2': x1[1],\n",
    "                  'W3': x1[2],\n",
    "                  'W4': x1[3],\n",
    "                  'W5': x1[4],\n",
    "                  'W6': x1[5]}\n",
    "        return K_prod[well]\n",
    "    x0 = [50, 50, 50, 50, 50, 50]\n",
    "    oil = search_p(x0, fPump)\n",
    "    print('дебит нефти = ', oil)\n",
    "    if oil < 0: print('забойное давление ниже граничного значения')\n",
    "    return - oil"
   ]
  },
  {
   "cell_type": "code",
   "execution_count": null,
   "id": "2e611823-9cb0-414c-8679-f0c8b2cf4350",
   "metadata": {
    "id": "2e611823-9cb0-414c-8679-f0c8b2cf4350"
   },
   "outputs": [],
   "source": [
    "optimize_Freq([35,35,35,35,35,35])"
   ]
  },
  {
   "cell_type": "code",
   "execution_count": null,
   "id": "5544c50c-f314-48ce-a888-36c917cd8d5e",
   "metadata": {
    "id": "5544c50c-f314-48ce-a888-36c917cd8d5e"
   },
   "outputs": [],
   "source": [
    "optimize_Freq([60,60,60,60,60,60])"
   ]
  },
  {
   "cell_type": "code",
   "execution_count": null,
   "id": "5959d863-249e-45a9-9449-e05ca70e3a94",
   "metadata": {
    "id": "5959d863-249e-45a9-9449-e05ca70e3a94"
   },
   "outputs": [],
   "source": [
    "from geneticalgorithm import geneticalgorithm as ga"
   ]
  },
  {
   "cell_type": "code",
   "execution_count": null,
   "id": "afa48059-63a4-43c2-99ee-37ec2d6648e3",
   "metadata": {
    "id": "afa48059-63a4-43c2-99ee-37ec2d6648e3"
   },
   "outputs": [],
   "source": [
    "varbound = np.array([(35, 60)]*6)\n",
    "algorithm_param = {'max_num_iteration': 50,\n",
    "                   'population_size': 10,\n",
    "                   'mutation_probability':0.2,\n",
    "                   'elit_ratio': 0.0,\n",
    "                   'crossover_probability': 0.5,\n",
    "                   'parents_portion': 0.25,\n",
    "                   'crossover_type':'two_point',\n",
    "                   'max_iteration_without_improv':None}\n",
    "model=ga(function=optimize_Freq,dimension=6,variable_type='int',variable_boundaries=varbound, algorithm_parameters=algorithm_param)"
   ]
  },
  {
   "cell_type": "code",
   "execution_count": null,
   "id": "1b9f13e1-7668-4aa8-9197-e7650562ac9d",
   "metadata": {
    "id": "1b9f13e1-7668-4aa8-9197-e7650562ac9d"
   },
   "outputs": [],
   "source": [
    "model.run()"
   ]
  },
  {
   "cell_type": "code",
   "execution_count": null,
   "id": "5ee23e6c-f723-4e11-83d7-6e556b6b705f",
   "metadata": {
    "id": "5ee23e6c-f723-4e11-83d7-6e556b6b705f"
   },
   "outputs": [],
   "source": [
    "bounds = [(35, 60), (35, 60),(35, 60),(35, 60),(35, 60),(35, 60)]\n",
    "opt_dict={\"maxfev\":1,\"f_min\":-195,\"f_tol\":0.1,\"maxiter\":1,\"maxtime\":1}\n",
    "res = scipy.optimize.shgo(optimize_Freq, bounds, n =32, options = opt_dict, sampling_method='sobol') #имитация отжига"
   ]
  },
  {
   "cell_type": "code",
   "execution_count": null,
   "id": "fec09413-0a82-48eb-a6c6-fe35f65a7d70",
   "metadata": {
    "id": "fec09413-0a82-48eb-a6c6-fe35f65a7d70"
   },
   "outputs": [],
   "source": [
    "res.x"
   ]
  },
  {
   "cell_type": "code",
   "execution_count": null,
   "id": "07c3a6e2-65b3-4a09-8cc0-609bac82ead6",
   "metadata": {
    "id": "07c3a6e2-65b3-4a09-8cc0-609bac82ead6"
   },
   "outputs": [],
   "source": []
  }
 ],
 "metadata": {
  "colab": {
   "provenance": []
  },
  "kernelspec": {
   "display_name": "Python 3 (ipykernel)",
   "language": "python",
   "name": "python3"
  },
  "language_info": {
   "codemirror_mode": {
    "name": "ipython",
    "version": 3
   },
   "file_extension": ".py",
   "mimetype": "text/x-python",
   "name": "python",
   "nbconvert_exporter": "python",
   "pygments_lexer": "ipython3",
   "version": "3.11.5"
  }
 },
 "nbformat": 4,
 "nbformat_minor": 5
}
